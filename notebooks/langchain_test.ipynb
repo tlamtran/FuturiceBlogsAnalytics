{
 "cells": [
  {
   "cell_type": "code",
   "execution_count": 8,
   "metadata": {},
   "outputs": [],
   "source": [
    "import os\n",
    "import pandas as pd\n",
    "\n",
    "from langchain_experimental.agents.agent_toolkits import create_pandas_dataframe_agent\n",
    "from langchain.llms import AzureOpenAI"
   ]
  },
  {
   "cell_type": "code",
   "execution_count": null,
   "metadata": {},
   "outputs": [],
   "source": [
    "df = pd.read_csv('../data/processed/futurice/blogs2.csv')\n",
    "df[:3]"
   ]
  },
  {
   "cell_type": "code",
   "execution_count": null,
   "metadata": {},
   "outputs": [],
   "source": [
    "relevant_columns = ['title', 'total users', 'average session duration', 'bounce rate', 'topics']\n",
    "df = df[relevant_columns]\n",
    "df[:3]"
   ]
  },
  {
   "cell_type": "code",
   "execution_count": 35,
   "metadata": {},
   "outputs": [
    {
     "data": {
      "text/plain": [
       "'\\'DesignOps for small teams\\', \\'Organisational model\\', \\'Defined process\\', \\'Standardised tooling\\', \\'Sources of truth\\', \\'Transparency and feedback culture\\', \\'EU Accessibility Directive\\', \\'Digital Accessibility Compliance\\', \\'Accessibility Audit\\', \\'Continuous Development\\', \\'Accessibility Requirements\\', \"\\'Facilitating Dialogue\\'\", \"\\'Group Dynamics\\'\", \"\\'Decision-making Methods\\'\", \"\\'Data-driven Insights\\'\", \"\\'Learning and Iteration\\'\"'"
      ]
     },
     "execution_count": 35,
     "metadata": {},
     "output_type": "execute_result"
    }
   ],
   "source": [
    "', '.join(df['topics'][:3])"
   ]
  },
  {
   "cell_type": "code",
   "execution_count": 12,
   "metadata": {},
   "outputs": [],
   "source": [
    "llm = AzureOpenAI(\n",
    "    openai_api_type=\"azure\",\n",
    "    openai_api_version=\"2023-05-15\",\n",
    "    deployment_name=\"gpt-35-turbo\",\n",
    "    openai_api_base=os.getenv('API_BASE'),\n",
    "    openai_api_key=os.getenv('API_KEY')\n",
    ")"
   ]
  },
  {
   "cell_type": "code",
   "execution_count": 13,
   "metadata": {},
   "outputs": [],
   "source": [
    "agent = create_pandas_dataframe_agent(llm, df[:3], verbose=True)"
   ]
  },
  {
   "cell_type": "code",
   "execution_count": null,
   "metadata": {},
   "outputs": [],
   "source": [
    "agent.run(\"Given blog titles and the main topics they cover coupled with metrics give me ways to improve metrics. How should I write my blog and what should I cover?\")"
   ]
  }
 ],
 "metadata": {
  "kernelspec": {
   "display_name": "futurice-blogs-env",
   "language": "python",
   "name": "python3"
  },
  "language_info": {
   "codemirror_mode": {
    "name": "ipython",
    "version": 3
   },
   "file_extension": ".py",
   "mimetype": "text/x-python",
   "name": "python",
   "nbconvert_exporter": "python",
   "pygments_lexer": "ipython3",
   "version": "3.11.5"
  }
 },
 "nbformat": 4,
 "nbformat_minor": 2
}
