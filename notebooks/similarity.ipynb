{
 "cells": [
  {
   "cell_type": "code",
   "execution_count": 13,
   "metadata": {},
   "outputs": [],
   "source": [
    "import sys\n",
    "sys.path.append('../src/')\n",
    "\n",
    "import numpy as np\n",
    "import pandas as pd\n",
    "\n",
    "from openai_functions import generate_text, get_embedding\n",
    "from similarity import get_similar_blogs, get_topics"
   ]
  },
  {
   "cell_type": "code",
   "execution_count": 2,
   "metadata": {},
   "outputs": [],
   "source": [
    "from langchain.embeddings import HuggingFaceBgeEmbeddings\n",
    "model_name = \"BAAI/bge-large-en-v1.5\"\n",
    "model_kwargs = {'device':'cpu'}\n",
    "encode_kwargs = {'normalize_embeddings':True} # True for cosine similarity\n",
    "model = HuggingFaceBgeEmbeddings(\n",
    "    model_name=model_name,\n",
    "    model_kwargs=model_kwargs,\n",
    "    encode_kwargs=encode_kwargs,\n",
    ")"
   ]
  },
  {
   "cell_type": "code",
   "execution_count": 3,
   "metadata": {},
   "outputs": [],
   "source": [
    "sentence_1 = \"Are German companies ready for twin transition?\"\n",
    "sentence_2 = \"What do German executives see as the biggest opportunities and challenges?\"\n",
    "sentence_3 = \"What do German executives see as the biggest opportunities and challenges in twin transition?\""
   ]
  },
  {
   "cell_type": "code",
   "execution_count": 4,
   "metadata": {},
   "outputs": [
    {
     "name": "stdout",
     "output_type": "stream",
     "text": [
      "0.8778036550398265\n",
      "0.9350853309473685\n"
     ]
    }
   ],
   "source": [
    "ada_embedding_1 = get_embedding(sentence_1)\n",
    "ada_embedding_2 = get_embedding(sentence_2)\n",
    "print(np.dot(ada_embedding_1, ada_embedding_2))\n",
    "\n",
    "ada_embedding_1 = get_embedding(sentence_1)\n",
    "ada_embedding_3 = get_embedding(sentence_3)\n",
    "print(np.dot(ada_embedding_1, ada_embedding_3))"
   ]
  },
  {
   "cell_type": "code",
   "execution_count": 5,
   "metadata": {},
   "outputs": [
    {
     "name": "stdout",
     "output_type": "stream",
     "text": [
      "0.6726142532838701\n",
      "0.8588599228211886\n"
     ]
    }
   ],
   "source": [
    "bge_embedding_1 = model.embed_query(sentence_1)\n",
    "bge_embedding_2 = model.embed_query(sentence_2)\n",
    "print(np.dot(bge_embedding_1, bge_embedding_2))\n",
    "\n",
    "bge_embedding_1 = model.embed_query(sentence_1)\n",
    "bge_embedding_3 = model.embed_query(sentence_3)\n",
    "print(np.dot(bge_embedding_1, bge_embedding_3))"
   ]
  },
  {
   "cell_type": "code",
   "execution_count": 55,
   "metadata": {},
   "outputs": [],
   "source": [
    "df = pd.read_csv('../data/processed/futurice/blogs2.csv')"
   ]
  },
  {
   "cell_type": "code",
   "execution_count": 63,
   "metadata": {},
   "outputs": [
    {
     "data": {
      "text/plain": [
       "119.10314145544227"
      ]
     },
     "execution_count": 63,
     "metadata": {},
     "output_type": "execute_result"
    }
   ],
   "source": [
    "df['average session duration'].mean()"
   ]
  },
  {
   "cell_type": "code",
   "execution_count": 64,
   "metadata": {},
   "outputs": [
    {
     "data": {
      "text/plain": [
       "109.39267698309507"
      ]
     },
     "execution_count": 64,
     "metadata": {},
     "output_type": "execute_result"
    }
   ],
   "source": [
    "df['average session duration'].std(ddof=0)"
   ]
  },
  {
   "cell_type": "code",
   "execution_count": null,
   "metadata": {},
   "outputs": [],
   "source": [
    "df[df['title'] == 'Generative AI tools at Futurice, May 2023']"
   ]
  },
  {
   "cell_type": "code",
   "execution_count": 54,
   "metadata": {},
   "outputs": [],
   "source": [
    "def get_nearest_titles(text, threshold):\n",
    "    df = pd.read_csv('../data/processed/futurice/blogs2.csv')\n",
    "    df = df[df['title'] != text]\n",
    "    embedded_text =  model.embed_query(text)\n",
    "    df['similarity'] = df['bge embedded title'].apply(eval).apply(lambda x: np.dot(x, embedded_text))\n",
    "    df = df[df['similarity'] >= threshold]\n",
    "    df = df.sort_values(by='similarity', ascending=False)\n",
    "    return df"
   ]
  },
  {
   "cell_type": "code",
   "execution_count": null,
   "metadata": {},
   "outputs": [],
   "source": [
    "title = 'Are German companies ready for twin transition?'\n",
    "\n",
    "df_similarity = get_nearest_titles(title, threshold=0.8)\n",
    "\n",
    "df_similarity"
   ]
  },
  {
   "cell_type": "code",
   "execution_count": 9,
   "metadata": {},
   "outputs": [
    {
     "name": "stdout",
     "output_type": "stream",
     "text": [
      "['Twin transition', 'Financial performance', 'Operational efficiency', 'Business practices', 'Sustainable technologies']\n"
     ]
    }
   ],
   "source": [
    "prompt = f\"Given the following blog text “{df_similarity.iloc[0]['full text']}” extract at most 5 important key topics, summarized into either 2 or 3 words for each key topic. Write it out as a python list and don't return anything else.\"\n",
    "\n",
    "print(generate_text(prompt, temperature=0))\n"
   ]
  },
  {
   "cell_type": "code",
   "execution_count": 10,
   "metadata": {},
   "outputs": [
    {
     "name": "stdout",
     "output_type": "stream",
     "text": [
      "['Twin transition challenges', 'Twin transition opportunities', 'Leadership', 'Complexity', 'Lack of resources']\n"
     ]
    }
   ],
   "source": [
    "prompt = f\"Given the following blog text “{df_similarity.iloc[1]['full text']}” extract at most 5 important key topics, summarized into either 2 or 3 words for each key topic. Write it out as a python list and don't return anything else.\"\n",
    "\n",
    "print(generate_text(prompt, temperature=0))"
   ]
  }
 ],
 "metadata": {
  "kernelspec": {
   "display_name": "futurice-blogs-env",
   "language": "python",
   "name": "python3"
  },
  "language_info": {
   "codemirror_mode": {
    "name": "ipython",
    "version": 3
   },
   "file_extension": ".py",
   "mimetype": "text/x-python",
   "name": "python",
   "nbconvert_exporter": "python",
   "pygments_lexer": "ipython3",
   "version": "3.11.5"
  }
 },
 "nbformat": 4,
 "nbformat_minor": 2
}
