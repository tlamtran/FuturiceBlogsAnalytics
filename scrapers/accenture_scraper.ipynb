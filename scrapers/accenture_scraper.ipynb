{
 "cells": [
  {
   "cell_type": "code",
   "execution_count": 20,
   "id": "initial_id",
   "metadata": {
    "collapsed": true,
    "ExecuteTime": {
     "end_time": "2023-09-27T15:50:36.893393100Z",
     "start_time": "2023-09-27T15:50:36.883223500Z"
    }
   },
   "outputs": [],
   "source": [
    "import json\n",
    "\n",
    "import pandas as pd\n",
    "import requests as req\n",
    "import spacy\n",
    "from bs4 import BeautifulSoup\n",
    "from nltk.stem.porter import *\n",
    "from tqdm.notebook import tqdm"
   ]
  },
  {
   "cell_type": "code",
   "execution_count": 22,
   "outputs": [],
   "source": [
    "# making it look like we are browsing from iPad, in case it helps bypass some bot detection\n",
    "HEADERS = {'User-Agent': 'Mozilla/5.0 (iPad; CPU OS 12_2 like Mac OS X) AppleWebKit/605.1.15 (KHTML, like Gecko) Mobile/15E148'}\n",
    "\n",
    "# pulling latest sitemap\n",
    "with open('../data/raw/accenture/blogs-sitemap.xml', 'w+') as f:\n",
    "    r = req.get('https://www.accenture.com/wordpressblogs-sitemap.xml', headers=HEADERS)\n",
    "    f.write(r.text)"
   ],
   "metadata": {
    "collapsed": false,
    "ExecuteTime": {
     "end_time": "2023-09-24T10:08:38.511867500Z",
     "start_time": "2023-09-24T10:08:37.320529100Z"
    }
   },
   "id": "da66eb2b65d91cc0"
  },
  {
   "cell_type": "code",
   "execution_count": 27,
   "outputs": [
    {
     "name": "stdout",
     "output_type": "stream",
     "text": [
      "423 links\n"
     ]
    },
    {
     "data": {
      "text/plain": "lang\nus-en    320\nau-en     38\ngb-en     26\nsg-en     14\nin-en     10\nnl-en      9\nno-en      3\nch-en      2\nfi-en      1\nName: count, dtype: int64"
     },
     "execution_count": 27,
     "metadata": {},
     "output_type": "execute_result"
    }
   ],
   "source": [
    "links = []\n",
    "with open('../data/raw/accenture/blogs-sitemap.xml') as f:\n",
    "    map_soup = BeautifulSoup(f.read())\n",
    "    for loc in map_soup.find_all('loc', recursive=True):\n",
    "        # scraping only English-language blogs;\n",
    "        # ignoring blog-index\n",
    "        \n",
    "        if '-en/blogs' in loc.text:\n",
    "            links.append(loc.text)\n",
    "\n",
    "df = []\n",
    "for link in links:\n",
    "    # using regex to extract meaningful part of the link and language of the blog\n",
    "    stem = re.search(r'-en(\\/.*)$', link).group(1)\n",
    "    lang = re.search(r'accenture.com\\/(.+?)\\/', link).group(1)\n",
    "    \n",
    "    df.append({\n",
    "        'link': link,\n",
    "        'stem': stem,\n",
    "        'lang': lang\n",
    "    })\n",
    "\n",
    "df = pd.DataFrame(df)\n",
    "# dropping pages duplicated in several locales\n",
    "df = df.drop_duplicates(subset=['stem']).drop(columns='stem')\n",
    "print(len(df), 'links')\n",
    "df['lang'].value_counts()"
   ],
   "metadata": {
    "collapsed": false,
    "ExecuteTime": {
     "end_time": "2023-09-24T10:11:56.487271900Z",
     "start_time": "2023-09-24T10:11:56.288971200Z"
    }
   },
   "id": "f4ee08d220a7b302"
  },
  {
   "cell_type": "markdown",
   "source": [
    "### Fetching text from each link (~10 min)"
   ],
   "metadata": {
    "collapsed": false
   },
   "id": "570bf48174f7b17d"
  },
  {
   "cell_type": "code",
   "execution_count": 28,
   "outputs": [
    {
     "data": {
      "text/plain": "  0%|          | 0/423 [00:00<?, ?it/s]",
      "application/vnd.jupyter.widget-view+json": {
       "version_major": 2,
       "version_minor": 0,
       "model_id": "4e2250c63acf43b689cc7c091d25b1bc"
      }
     },
     "metadata": {},
     "output_type": "display_data"
    },
    {
     "data": {
      "text/plain": "                                                  link   lang  \\\n0    https://www.accenture.com/us-en/blogs/blogs-ca...  us-en   \n1    https://www.accenture.com/us-en/blogs/blogs-ca...  us-en   \n2    https://www.accenture.com/us-en/blogs/blogs-ca...  us-en   \n3    https://www.accenture.com/us-en/blogs/blogs-ca...  us-en   \n4    https://www.accenture.com/us-en/blogs/blogs-ca...  us-en   \n..                                                 ...    ...   \n861  https://www.accenture.com/sg-en/blogs/southeas...  sg-en   \n863  https://www.accenture.com/sg-en/blogs/future-c...  sg-en   \n868  https://www.accenture.com/sg-en/blogs/southeas...  sg-en   \n871  https://www.accenture.com/sg-en/blogs/southeas...  sg-en   \n874  https://www.accenture.com/sg-en/blogs/future-c...  sg-en   \n\n                                                  text status  \\\n0    \\n \\n How generative AI will transform your wo...    200   \n1    \\n \\n \\n Anyone else remember the days of prin...    200   \n2    \\n \\n \\n View the video on Youtube \\n Technolo...    200   \n3    \\n \\n \\n The interview experience has evolved ...    200   \n4    \\n \\n \\n The great migration to cloud continue...    200   \n..                                                 ...    ...   \n861  \\n \\n \\n A young project manager’s phone light...    200   \n863  \\n \\n \\n Sometimes, all it takes is a single a...    200   \n868  \\n \\n \\n Across the internet, in both paid and...    200   \n871  \\n \\n \\n As we headed into 2022, many organisa...    200   \n874  \\n \\n \\n Just over a year ago, we published a ...    200   \n\n                                                 title                date  \n0                                                 None                None  \n1                         5 tips for interview success                None  \n2                       Raise your cloud technology IQ       July 22, 2021  \n3               9 ways to perfect your video interview        May 10, 2022  \n4    The Cloud Continuum unleashes new career oppor...   December 14, 2021  \n..                                                 ...                 ...  \n861                 The possibilities of the metaverse       June 20, 2022  \n863  Harnessing the power of digital twins in cyber...  September 08, 2022  \n868       How businesses can avoid the dark side of AI   December 05, 2022  \n871  How ASEAN SMEs are reshaping their businesses ...    October 05, 2022  \n874    Singapore’s leading life insurers join SGFinDex   February 22, 2023  \n\n[423 rows x 6 columns]",
      "text/html": "<div>\n<style scoped>\n    .dataframe tbody tr th:only-of-type {\n        vertical-align: middle;\n    }\n\n    .dataframe tbody tr th {\n        vertical-align: top;\n    }\n\n    .dataframe thead th {\n        text-align: right;\n    }\n</style>\n<table border=\"1\" class=\"dataframe\">\n  <thead>\n    <tr style=\"text-align: right;\">\n      <th></th>\n      <th>link</th>\n      <th>lang</th>\n      <th>text</th>\n      <th>status</th>\n      <th>title</th>\n      <th>date</th>\n    </tr>\n  </thead>\n  <tbody>\n    <tr>\n      <th>0</th>\n      <td>https://www.accenture.com/us-en/blogs/blogs-ca...</td>\n      <td>us-en</td>\n      <td>\\n \\n How generative AI will transform your wo...</td>\n      <td>200</td>\n      <td>None</td>\n      <td>None</td>\n    </tr>\n    <tr>\n      <th>1</th>\n      <td>https://www.accenture.com/us-en/blogs/blogs-ca...</td>\n      <td>us-en</td>\n      <td>\\n \\n \\n Anyone else remember the days of prin...</td>\n      <td>200</td>\n      <td>5 tips for interview success</td>\n      <td>None</td>\n    </tr>\n    <tr>\n      <th>2</th>\n      <td>https://www.accenture.com/us-en/blogs/blogs-ca...</td>\n      <td>us-en</td>\n      <td>\\n \\n \\n View the video on Youtube \\n Technolo...</td>\n      <td>200</td>\n      <td>Raise your cloud technology IQ</td>\n      <td>July 22, 2021</td>\n    </tr>\n    <tr>\n      <th>3</th>\n      <td>https://www.accenture.com/us-en/blogs/blogs-ca...</td>\n      <td>us-en</td>\n      <td>\\n \\n \\n The interview experience has evolved ...</td>\n      <td>200</td>\n      <td>9 ways to perfect your video interview</td>\n      <td>May 10, 2022</td>\n    </tr>\n    <tr>\n      <th>4</th>\n      <td>https://www.accenture.com/us-en/blogs/blogs-ca...</td>\n      <td>us-en</td>\n      <td>\\n \\n \\n The great migration to cloud continue...</td>\n      <td>200</td>\n      <td>The Cloud Continuum unleashes new career oppor...</td>\n      <td>December 14, 2021</td>\n    </tr>\n    <tr>\n      <th>...</th>\n      <td>...</td>\n      <td>...</td>\n      <td>...</td>\n      <td>...</td>\n      <td>...</td>\n      <td>...</td>\n    </tr>\n    <tr>\n      <th>861</th>\n      <td>https://www.accenture.com/sg-en/blogs/southeas...</td>\n      <td>sg-en</td>\n      <td>\\n \\n \\n A young project manager’s phone light...</td>\n      <td>200</td>\n      <td>The possibilities of the metaverse</td>\n      <td>June 20, 2022</td>\n    </tr>\n    <tr>\n      <th>863</th>\n      <td>https://www.accenture.com/sg-en/blogs/future-c...</td>\n      <td>sg-en</td>\n      <td>\\n \\n \\n Sometimes, all it takes is a single a...</td>\n      <td>200</td>\n      <td>Harnessing the power of digital twins in cyber...</td>\n      <td>September 08, 2022</td>\n    </tr>\n    <tr>\n      <th>868</th>\n      <td>https://www.accenture.com/sg-en/blogs/southeas...</td>\n      <td>sg-en</td>\n      <td>\\n \\n \\n Across the internet, in both paid and...</td>\n      <td>200</td>\n      <td>How businesses can avoid the dark side of AI</td>\n      <td>December 05, 2022</td>\n    </tr>\n    <tr>\n      <th>871</th>\n      <td>https://www.accenture.com/sg-en/blogs/southeas...</td>\n      <td>sg-en</td>\n      <td>\\n \\n \\n As we headed into 2022, many organisa...</td>\n      <td>200</td>\n      <td>How ASEAN SMEs are reshaping their businesses ...</td>\n      <td>October 05, 2022</td>\n    </tr>\n    <tr>\n      <th>874</th>\n      <td>https://www.accenture.com/sg-en/blogs/future-c...</td>\n      <td>sg-en</td>\n      <td>\\n \\n \\n Just over a year ago, we published a ...</td>\n      <td>200</td>\n      <td>Singapore’s leading life insurers join SGFinDex</td>\n      <td>February 22, 2023</td>\n    </tr>\n  </tbody>\n</table>\n<p>423 rows × 6 columns</p>\n</div>"
     },
     "execution_count": 28,
     "metadata": {},
     "output_type": "execute_result"
    }
   ],
   "source": [
    "if 'text' not in df.columns.values:\n",
    "    df['text'] = None\n",
    "if 'status' not in df.columns.values:\n",
    "    df['status'] = None\n",
    "if 'title' not in df.columns.values:\n",
    "    df['title'] = None\n",
    "if 'date' not in df.columns.values:\n",
    "    df['date'] = None\n",
    "\n",
    "# using tqdm for the progress bar in notebook output\n",
    "for i, row in tqdm(df.iterrows(), total=len(df)):\n",
    "    r = req.get(row['link'], headers=HEADERS)\n",
    "    status = str(r.status_code)\n",
    "    if r.status_code == 200:\n",
    "        soup = BeautifulSoup(r.text)\n",
    "        title = soup.find(attrs={'class': 'rad-article-hero__headline'})\n",
    "        if title:\n",
    "            title = title.get_text(\" \")\n",
    "        df.at[i, 'title'] = title\n",
    "            \n",
    "        date = soup.find(attrs={'class': 'rad-article-hero__publish-date'})\n",
    "        if date:\n",
    "            date = date.text\n",
    "        df.at[i, 'date'] = date\n",
    "            \n",
    "        # ignoring text blocks about quotes and authors\n",
    "        text = '\\n'.join([el.get_text(\" \") for el in soup.find_all(attrs={'class': 'text'})])\n",
    "\n",
    "        df.at[i, 'text'] = text\n",
    "\n",
    "    df.at[i, 'status'] = status\n",
    "\n",
    "backup_df = df\n",
    "df"
   ],
   "metadata": {
    "collapsed": false,
    "ExecuteTime": {
     "end_time": "2023-09-24T10:21:34.378099400Z",
     "start_time": "2023-09-24T10:12:11.181999Z"
    }
   },
   "id": "8b99aa08205e1f49"
  },
  {
   "cell_type": "code",
   "execution_count": 42,
   "outputs": [
    {
     "data": {
      "text/plain": "                                                  link   lang  \\\n0    https://www.accenture.com/us-en/blogs/blogs-ca...  us-en   \n1    https://www.accenture.com/us-en/blogs/blogs-ca...  us-en   \n2    https://www.accenture.com/us-en/blogs/blogs-ca...  us-en   \n3    https://www.accenture.com/us-en/blogs/blogs-ca...  us-en   \n4    https://www.accenture.com/us-en/blogs/blogs-ca...  us-en   \n..                                                 ...    ...   \n398  https://www.accenture.com/sg-en/blogs/southeas...  sg-en   \n399  https://www.accenture.com/sg-en/blogs/future-c...  sg-en   \n400  https://www.accenture.com/sg-en/blogs/southeas...  sg-en   \n401  https://www.accenture.com/sg-en/blogs/southeas...  sg-en   \n402  https://www.accenture.com/sg-en/blogs/future-c...  sg-en   \n\n                                                  text  \\\n0    \\n \\n \\n View the video on Youtube \\n Technolo...   \n1    \\n \\n \\n The interview experience has evolved ...   \n2    \\n \\n \\n The great migration to cloud continue...   \n3    \\n \\n \\n There’s been a dramatic shift in the ...   \n4    \\n \\n \\n I have reviewed countless resumes thr...   \n..                                                 ...   \n398  \\n \\n \\n A young project manager’s phone light...   \n399  \\n \\n \\n Sometimes, all it takes is a single a...   \n400  \\n \\n \\n Across the internet, in both paid and...   \n401  \\n \\n \\n As we headed into 2022, many organisa...   \n402  \\n \\n \\n Just over a year ago, we published a ...   \n\n                                                 title       date  \\\n0                       Raise your cloud technology IQ 2021-07-22   \n1               9 ways to perfect your video interview 2022-05-10   \n2    The Cloud Continuum unleashes new career oppor... 2021-12-14   \n3            7 in-demand entry-level skills and traits 2022-08-12   \n4                 4 ways to help your resume stand out 2022-08-01   \n..                                                 ...        ...   \n398                 The possibilities of the metaverse 2022-06-20   \n399  Harnessing the power of digital twins in cyber... 2022-09-08   \n400       How businesses can avoid the dark side of AI 2022-12-05   \n401  How ASEAN SMEs are reshaping their businesses ... 2022-10-05   \n402    Singapore’s leading life insurers join SGFinDex 2023-02-22   \n\n                                               stemmed  \n0    view the video on youtub \\n  technolog continu...  \n1    the interview experi ha evolv in today ’s conn...  \n2    the great migrat to cloud continu to acceler ....  \n3    there ’s been a dramat shift in the world of w...  \n4    i have review countless resum throughout my re...  \n..                                                 ...  \n398  a young project manag ’s phone light up . it ’...  \n399  sometim , all it take is a singl attack on a s...  \n400  across the internet , in both paid and free ve...  \n401  as we head into 2022 , mani organis were gear ...  \n402  just over a year ago , we publish a blog post ...  \n\n[403 rows x 6 columns]",
      "text/html": "<div>\n<style scoped>\n    .dataframe tbody tr th:only-of-type {\n        vertical-align: middle;\n    }\n\n    .dataframe tbody tr th {\n        vertical-align: top;\n    }\n\n    .dataframe thead th {\n        text-align: right;\n    }\n</style>\n<table border=\"1\" class=\"dataframe\">\n  <thead>\n    <tr style=\"text-align: right;\">\n      <th></th>\n      <th>link</th>\n      <th>lang</th>\n      <th>text</th>\n      <th>title</th>\n      <th>date</th>\n      <th>stemmed</th>\n    </tr>\n  </thead>\n  <tbody>\n    <tr>\n      <th>0</th>\n      <td>https://www.accenture.com/us-en/blogs/blogs-ca...</td>\n      <td>us-en</td>\n      <td>\\n \\n \\n View the video on Youtube \\n Technolo...</td>\n      <td>Raise your cloud technology IQ</td>\n      <td>2021-07-22</td>\n      <td>view the video on youtub \\n  technolog continu...</td>\n    </tr>\n    <tr>\n      <th>1</th>\n      <td>https://www.accenture.com/us-en/blogs/blogs-ca...</td>\n      <td>us-en</td>\n      <td>\\n \\n \\n The interview experience has evolved ...</td>\n      <td>9 ways to perfect your video interview</td>\n      <td>2022-05-10</td>\n      <td>the interview experi ha evolv in today ’s conn...</td>\n    </tr>\n    <tr>\n      <th>2</th>\n      <td>https://www.accenture.com/us-en/blogs/blogs-ca...</td>\n      <td>us-en</td>\n      <td>\\n \\n \\n The great migration to cloud continue...</td>\n      <td>The Cloud Continuum unleashes new career oppor...</td>\n      <td>2021-12-14</td>\n      <td>the great migrat to cloud continu to acceler ....</td>\n    </tr>\n    <tr>\n      <th>3</th>\n      <td>https://www.accenture.com/us-en/blogs/blogs-ca...</td>\n      <td>us-en</td>\n      <td>\\n \\n \\n There’s been a dramatic shift in the ...</td>\n      <td>7 in-demand entry-level skills and traits</td>\n      <td>2022-08-12</td>\n      <td>there ’s been a dramat shift in the world of w...</td>\n    </tr>\n    <tr>\n      <th>4</th>\n      <td>https://www.accenture.com/us-en/blogs/blogs-ca...</td>\n      <td>us-en</td>\n      <td>\\n \\n \\n I have reviewed countless resumes thr...</td>\n      <td>4 ways to help your resume stand out</td>\n      <td>2022-08-01</td>\n      <td>i have review countless resum throughout my re...</td>\n    </tr>\n    <tr>\n      <th>...</th>\n      <td>...</td>\n      <td>...</td>\n      <td>...</td>\n      <td>...</td>\n      <td>...</td>\n      <td>...</td>\n    </tr>\n    <tr>\n      <th>398</th>\n      <td>https://www.accenture.com/sg-en/blogs/southeas...</td>\n      <td>sg-en</td>\n      <td>\\n \\n \\n A young project manager’s phone light...</td>\n      <td>The possibilities of the metaverse</td>\n      <td>2022-06-20</td>\n      <td>a young project manag ’s phone light up . it ’...</td>\n    </tr>\n    <tr>\n      <th>399</th>\n      <td>https://www.accenture.com/sg-en/blogs/future-c...</td>\n      <td>sg-en</td>\n      <td>\\n \\n \\n Sometimes, all it takes is a single a...</td>\n      <td>Harnessing the power of digital twins in cyber...</td>\n      <td>2022-09-08</td>\n      <td>sometim , all it take is a singl attack on a s...</td>\n    </tr>\n    <tr>\n      <th>400</th>\n      <td>https://www.accenture.com/sg-en/blogs/southeas...</td>\n      <td>sg-en</td>\n      <td>\\n \\n \\n Across the internet, in both paid and...</td>\n      <td>How businesses can avoid the dark side of AI</td>\n      <td>2022-12-05</td>\n      <td>across the internet , in both paid and free ve...</td>\n    </tr>\n    <tr>\n      <th>401</th>\n      <td>https://www.accenture.com/sg-en/blogs/southeas...</td>\n      <td>sg-en</td>\n      <td>\\n \\n \\n As we headed into 2022, many organisa...</td>\n      <td>How ASEAN SMEs are reshaping their businesses ...</td>\n      <td>2022-10-05</td>\n      <td>as we head into 2022 , mani organis were gear ...</td>\n    </tr>\n    <tr>\n      <th>402</th>\n      <td>https://www.accenture.com/sg-en/blogs/future-c...</td>\n      <td>sg-en</td>\n      <td>\\n \\n \\n Just over a year ago, we published a ...</td>\n      <td>Singapore’s leading life insurers join SGFinDex</td>\n      <td>2023-02-22</td>\n      <td>just over a year ago , we publish a blog post ...</td>\n    </tr>\n  </tbody>\n</table>\n<p>403 rows × 6 columns</p>\n</div>"
     },
     "execution_count": 42,
     "metadata": {},
     "output_type": "execute_result"
    }
   ],
   "source": [
    "df = df.drop_duplicates(subset=['text', 'title'])\n",
    "df['date'] = pd.to_datetime(df['date'], format='%B %d, %Y')\n",
    "df = df[df['status'] == '200'][df['date'].notna()].drop(columns=['status'])\n",
    "df = df.reset_index(drop=True)\n",
    "\n",
    "df"
   ],
   "metadata": {
    "collapsed": false,
    "ExecuteTime": {
     "end_time": "2023-09-24T10:49:36.465610700Z",
     "start_time": "2023-09-24T10:49:36.440601800Z"
    }
   },
   "id": "5bb94ef57171af9"
  },
  {
   "cell_type": "markdown",
   "source": [
    "### Stemming\n",
    "\n",
    "Run this in terminal to download the spacy model used (or skip the next cell).\n",
    "\n",
    "`python -m spacy download en_core_web_sm`"
   ],
   "metadata": {
    "collapsed": false
   },
   "id": "26c0539229aacd74"
  },
  {
   "cell_type": "code",
   "execution_count": 51,
   "outputs": [
    {
     "data": {
      "text/plain": "                                                  link   lang  \\\n0    https://www.accenture.com/us-en/blogs/blogs-ca...  us-en   \n1    https://www.accenture.com/us-en/blogs/blogs-ca...  us-en   \n2    https://www.accenture.com/us-en/blogs/blogs-ca...  us-en   \n3    https://www.accenture.com/us-en/blogs/blogs-ca...  us-en   \n4    https://www.accenture.com/us-en/blogs/blogs-ca...  us-en   \n..                                                 ...    ...   \n398  https://www.accenture.com/sg-en/blogs/southeas...  sg-en   \n399  https://www.accenture.com/sg-en/blogs/future-c...  sg-en   \n400  https://www.accenture.com/sg-en/blogs/southeas...  sg-en   \n401  https://www.accenture.com/sg-en/blogs/southeas...  sg-en   \n402  https://www.accenture.com/sg-en/blogs/future-c...  sg-en   \n\n                                                  text  \\\n0    \\n \\n \\n View the video on Youtube \\n Technolo...   \n1    \\n \\n \\n The interview experience has evolved ...   \n2    \\n \\n \\n The great migration to cloud continue...   \n3    \\n \\n \\n There’s been a dramatic shift in the ...   \n4    \\n \\n \\n I have reviewed countless resumes thr...   \n..                                                 ...   \n398  \\n \\n \\n A young project manager’s phone light...   \n399  \\n \\n \\n Sometimes, all it takes is a single a...   \n400  \\n \\n \\n Across the internet, in both paid and...   \n401  \\n \\n \\n As we headed into 2022, many organisa...   \n402  \\n \\n \\n Just over a year ago, we published a ...   \n\n                                                 title       date  \\\n0                       Raise your cloud technology IQ 2021-07-22   \n1               9 ways to perfect your video interview 2022-05-10   \n2    The Cloud Continuum unleashes new career oppor... 2021-12-14   \n3            7 in-demand entry-level skills and traits 2022-08-12   \n4                 4 ways to help your resume stand out 2022-08-01   \n..                                                 ...        ...   \n398                 The possibilities of the metaverse 2022-06-20   \n399  Harnessing the power of digital twins in cyber... 2022-09-08   \n400       How businesses can avoid the dark side of AI 2022-12-05   \n401  How ASEAN SMEs are reshaping their businesses ... 2022-10-05   \n402    Singapore’s leading life insurers join SGFinDex 2023-02-22   \n\n                                               stemmed  \n0    view the video on youtub technolog continu to ...  \n1    the interview experi ha evolv in today 's conn...  \n2    the great migrat to cloud continu to acceler t...  \n3    there 's been a dramat shift in the world of w...  \n4    i have review countless resum throughout my re...  \n..                                                 ...  \n398  a young project manag 's phone light up it 's ...  \n399  sometim all it take is a singl attack on a sup...  \n400  across the internet in both paid and free vers...  \n401  as we head into 2022 mani organis were gear up...  \n402  just over a year ago we publish a blog post sh...  \n\n[403 rows x 6 columns]",
      "text/html": "<div>\n<style scoped>\n    .dataframe tbody tr th:only-of-type {\n        vertical-align: middle;\n    }\n\n    .dataframe tbody tr th {\n        vertical-align: top;\n    }\n\n    .dataframe thead th {\n        text-align: right;\n    }\n</style>\n<table border=\"1\" class=\"dataframe\">\n  <thead>\n    <tr style=\"text-align: right;\">\n      <th></th>\n      <th>link</th>\n      <th>lang</th>\n      <th>text</th>\n      <th>title</th>\n      <th>date</th>\n      <th>stemmed</th>\n    </tr>\n  </thead>\n  <tbody>\n    <tr>\n      <th>0</th>\n      <td>https://www.accenture.com/us-en/blogs/blogs-ca...</td>\n      <td>us-en</td>\n      <td>\\n \\n \\n View the video on Youtube \\n Technolo...</td>\n      <td>Raise your cloud technology IQ</td>\n      <td>2021-07-22</td>\n      <td>view the video on youtub technolog continu to ...</td>\n    </tr>\n    <tr>\n      <th>1</th>\n      <td>https://www.accenture.com/us-en/blogs/blogs-ca...</td>\n      <td>us-en</td>\n      <td>\\n \\n \\n The interview experience has evolved ...</td>\n      <td>9 ways to perfect your video interview</td>\n      <td>2022-05-10</td>\n      <td>the interview experi ha evolv in today 's conn...</td>\n    </tr>\n    <tr>\n      <th>2</th>\n      <td>https://www.accenture.com/us-en/blogs/blogs-ca...</td>\n      <td>us-en</td>\n      <td>\\n \\n \\n The great migration to cloud continue...</td>\n      <td>The Cloud Continuum unleashes new career oppor...</td>\n      <td>2021-12-14</td>\n      <td>the great migrat to cloud continu to acceler t...</td>\n    </tr>\n    <tr>\n      <th>3</th>\n      <td>https://www.accenture.com/us-en/blogs/blogs-ca...</td>\n      <td>us-en</td>\n      <td>\\n \\n \\n There’s been a dramatic shift in the ...</td>\n      <td>7 in-demand entry-level skills and traits</td>\n      <td>2022-08-12</td>\n      <td>there 's been a dramat shift in the world of w...</td>\n    </tr>\n    <tr>\n      <th>4</th>\n      <td>https://www.accenture.com/us-en/blogs/blogs-ca...</td>\n      <td>us-en</td>\n      <td>\\n \\n \\n I have reviewed countless resumes thr...</td>\n      <td>4 ways to help your resume stand out</td>\n      <td>2022-08-01</td>\n      <td>i have review countless resum throughout my re...</td>\n    </tr>\n    <tr>\n      <th>...</th>\n      <td>...</td>\n      <td>...</td>\n      <td>...</td>\n      <td>...</td>\n      <td>...</td>\n      <td>...</td>\n    </tr>\n    <tr>\n      <th>398</th>\n      <td>https://www.accenture.com/sg-en/blogs/southeas...</td>\n      <td>sg-en</td>\n      <td>\\n \\n \\n A young project manager’s phone light...</td>\n      <td>The possibilities of the metaverse</td>\n      <td>2022-06-20</td>\n      <td>a young project manag 's phone light up it 's ...</td>\n    </tr>\n    <tr>\n      <th>399</th>\n      <td>https://www.accenture.com/sg-en/blogs/future-c...</td>\n      <td>sg-en</td>\n      <td>\\n \\n \\n Sometimes, all it takes is a single a...</td>\n      <td>Harnessing the power of digital twins in cyber...</td>\n      <td>2022-09-08</td>\n      <td>sometim all it take is a singl attack on a sup...</td>\n    </tr>\n    <tr>\n      <th>400</th>\n      <td>https://www.accenture.com/sg-en/blogs/southeas...</td>\n      <td>sg-en</td>\n      <td>\\n \\n \\n Across the internet, in both paid and...</td>\n      <td>How businesses can avoid the dark side of AI</td>\n      <td>2022-12-05</td>\n      <td>across the internet in both paid and free vers...</td>\n    </tr>\n    <tr>\n      <th>401</th>\n      <td>https://www.accenture.com/sg-en/blogs/southeas...</td>\n      <td>sg-en</td>\n      <td>\\n \\n \\n As we headed into 2022, many organisa...</td>\n      <td>How ASEAN SMEs are reshaping their businesses ...</td>\n      <td>2022-10-05</td>\n      <td>as we head into 2022 mani organis were gear up...</td>\n    </tr>\n    <tr>\n      <th>402</th>\n      <td>https://www.accenture.com/sg-en/blogs/future-c...</td>\n      <td>sg-en</td>\n      <td>\\n \\n \\n Just over a year ago, we published a ...</td>\n      <td>Singapore’s leading life insurers join SGFinDex</td>\n      <td>2023-02-22</td>\n      <td>just over a year ago we publish a blog post sh...</td>\n    </tr>\n  </tbody>\n</table>\n<p>403 rows × 6 columns</p>\n</div>"
     },
     "execution_count": 51,
     "metadata": {},
     "output_type": "execute_result"
    }
   ],
   "source": [
    "nlp = spacy.load('en_core_web_sm')\n",
    "stemmer = PorterStemmer()\n",
    "\n",
    "# Stemming ignores punctuation and linebreaks.\n",
    "def stem_text(text):\n",
    "    tokens = []\n",
    "    # correcting the weird apostrophe used in Accenture texts\n",
    "    for token in nlp(str(text).replace('’', '\\'')):\n",
    "        if not token.is_punct and not token.is_space:\n",
    "            tokens.append(stemmer.stem(token.text))\n",
    "    return ' '.join(tokens)\n",
    "\n",
    "df['stemmed'] = df['text'].apply(stem_text)\n",
    "df"
   ],
   "metadata": {
    "collapsed": false,
    "ExecuteTime": {
     "end_time": "2023-09-24T11:01:32.985185700Z",
     "start_time": "2023-09-24T11:00:17.108568100Z"
    }
   },
   "id": "54be8c7c75323dc1"
  },
  {
   "cell_type": "code",
   "execution_count": 54,
   "outputs": [],
   "source": [
    "df.to_csv('../data/raw/accenture/pages.csv', mode='w', index=False)\n",
    "# df = pd.read_csv('../data/raw/accenture/pages.csv')"
   ],
   "metadata": {
    "collapsed": false,
    "ExecuteTime": {
     "end_time": "2023-09-24T11:10:05.237925900Z",
     "start_time": "2023-09-24T11:10:05.164931500Z"
    }
   },
   "id": "6e33919690725cc3"
  },
  {
   "cell_type": "code",
   "execution_count": 3,
   "outputs": [],
   "source": [
    "df = pd.read_csv('../data/processed/futurice/blogs_with_analytics.csv')"
   ],
   "metadata": {
    "collapsed": false,
    "ExecuteTime": {
     "end_time": "2023-09-27T15:28:25.198671100Z",
     "start_time": "2023-09-27T15:28:25.087853900Z"
    }
   },
   "id": "c80f8c8843af315"
  },
  {
   "cell_type": "code",
   "execution_count": 4,
   "outputs": [
    {
     "data": {
      "text/plain": "                                                  link  \\\n0    https://futurice.com/blog/designops-small-team...   \n1    https://futurice.com/blog/european-accessibili...   \n2    https://futurice.com/blog/group-decision-makin...   \n3    https://futurice.com/blog/futustories-from-con...   \n4         https://futurice.com/blog/car-companion-apps   \n..                                                 ...   \n507  https://futurice.com/blog/futurice-europes-bes...   \n508  https://futurice.com/blog/you-must-be-somewher...   \n509  https://futurice.com/blog/decision-making-at-f...   \n510  https://futurice.com/blog/designing-and-buildi...   \n511          https://futurice.com/blog/coding-postures   \n\n                                                 title         date  \\\n0                 DesignOps - Small team starter guide  5 Sept 2023   \n1            Navigating the European Accessibility Act  30 Aug 2023   \n2    Practical tips for facilitating high-quality, ...  21 Aug 2023   \n3    Better late than never – Sander’s shift from c...  11 Aug 2023   \n4    Car companion apps - the tip of the automotive...  21 Jul 2023   \n..                                                 ...          ...   \n507                 Futurice – Europe's best workplace   7 Jun 2012   \n508                    You must be somewhere in London  30 May 2012   \n509                        Decision making at Futurice   7 May 2012   \n510  Designing and building apps for four platforms...  17 Feb 2012   \n511                                    Coding postures  22 Dec 2010   \n\n       category                                     grid paragraph  \\\n0    Technology  DesignOps is a powerful framework that works f...   \n1      Strategy  Digital accessibility is soon to be mandatory ...   \n2      Strategy  This article helps you recognize the most comm...   \n3       Culture  From consulting to coding, discover Sander Nob...   \n4    Technology  Many car manufacturers are missing the market ...   \n..          ...                                                ...   \n507     Culture  Wow! A great continuation for the national pri...   \n508     Culture  Time goes fast in London. You wake up in the m...   \n509     Culture  Futurice is a company with a flat hierarchy an...   \n510    Projects  A couple of weeks ago, together with Restauran...   \n511     Culture  While taking some photos from around the offic...   \n\n                                              headings  \\\n0    ['Index', 'Intro', 'What we mean by ‘DesignOps...   \n1    ['This is digital accessibility in short', 'Wh...   \n2    ['Group decision-making challenges', 'Solution...   \n3    ['How did you end up working at Futurice?', 'W...   \n4    ['So what is it that MyBMW and Mini apps do to...   \n..                                                 ...   \n507                                                 []   \n508                                                 []   \n509                                                 []   \n510                                                 []   \n511                                                 []   \n\n                                     content paragraph  \\\n0    ['The conversation about DesignOps seems to fo...   \n1    ['The European Union is determined to help its...   \n2    ['If you want to empower your management team ...   \n3    ['When a previous employer’s office closure an...   \n4    ['Today, every major auto manufacturer offers ...   \n..                                                 ...   \n507  ['Wow! A great continuation for the national p...   \n508  ['Time goes fast in London.', 'You wake up in ...   \n509  ['', \"Futurice is a company with a flat hierar...   \n510  ['A couple of weeks ago, together with [Restau...   \n511  [\"While taking some photos from around the off...   \n\n                                               bullets  total users  \\\n0    ['Intro', \"What we mean by ‘DesignOps'\", 'Clar...          6.0   \n1    ['Computers and operating systems', 'ATMs, tic...         27.0   \n2    ['An overly optimistic idea of what can be don...         76.0   \n3                                                   []         17.0   \n4    ['Mindset of traditional OEMs: I am generalisi...         76.0   \n..                                                 ...          ...   \n507                                                 []         17.0   \n508                                                 []          4.0   \n509                                                 []        199.0   \n510                                                 []          5.0   \n511                                                 []          6.0   \n\n     new users  returning users  views  views per session  sessions  \\\n0          0.0              4.0    9.0           0.642857      14.0   \n1         13.0             12.0   54.0           0.720000      75.0   \n2         34.0             43.0  150.0           0.663717     226.0   \n3          6.0              7.0   30.0           0.697674      43.0   \n4         43.0             35.0  137.0           0.628440     218.0   \n..         ...              ...    ...                ...       ...   \n507        7.0              6.0   19.0           0.730769      26.0   \n508        0.0              0.0    3.0           0.750000       4.0   \n509      126.0             79.0  283.0           0.736979     384.0   \n510        0.0              2.0    5.0           0.714286       7.0   \n511        0.0              5.0    8.0           0.571429      14.0   \n\n     average session duration  bounce rate  \n0                  156.692704     0.928571  \n1                  522.475715     0.853333  \n2                  140.181343     0.902655  \n3                  127.233857     0.813953  \n4                  130.211249     0.770642  \n..                        ...          ...  \n507                138.922882     0.769231  \n508                  4.195911     1.000000  \n509                142.158630     0.671875  \n510                 15.107210     1.000000  \n511                110.614038     0.928571  \n\n[512 rows x 16 columns]",
      "text/html": "<div>\n<style scoped>\n    .dataframe tbody tr th:only-of-type {\n        vertical-align: middle;\n    }\n\n    .dataframe tbody tr th {\n        vertical-align: top;\n    }\n\n    .dataframe thead th {\n        text-align: right;\n    }\n</style>\n<table border=\"1\" class=\"dataframe\">\n  <thead>\n    <tr style=\"text-align: right;\">\n      <th></th>\n      <th>link</th>\n      <th>title</th>\n      <th>date</th>\n      <th>category</th>\n      <th>grid paragraph</th>\n      <th>headings</th>\n      <th>content paragraph</th>\n      <th>bullets</th>\n      <th>total users</th>\n      <th>new users</th>\n      <th>returning users</th>\n      <th>views</th>\n      <th>views per session</th>\n      <th>sessions</th>\n      <th>average session duration</th>\n      <th>bounce rate</th>\n    </tr>\n  </thead>\n  <tbody>\n    <tr>\n      <th>0</th>\n      <td>https://futurice.com/blog/designops-small-team...</td>\n      <td>DesignOps - Small team starter guide</td>\n      <td>5 Sept 2023</td>\n      <td>Technology</td>\n      <td>DesignOps is a powerful framework that works f...</td>\n      <td>['Index', 'Intro', 'What we mean by ‘DesignOps...</td>\n      <td>['The conversation about DesignOps seems to fo...</td>\n      <td>['Intro', \"What we mean by ‘DesignOps'\", 'Clar...</td>\n      <td>6.0</td>\n      <td>0.0</td>\n      <td>4.0</td>\n      <td>9.0</td>\n      <td>0.642857</td>\n      <td>14.0</td>\n      <td>156.692704</td>\n      <td>0.928571</td>\n    </tr>\n    <tr>\n      <th>1</th>\n      <td>https://futurice.com/blog/european-accessibili...</td>\n      <td>Navigating the European Accessibility Act</td>\n      <td>30 Aug 2023</td>\n      <td>Strategy</td>\n      <td>Digital accessibility is soon to be mandatory ...</td>\n      <td>['This is digital accessibility in short', 'Wh...</td>\n      <td>['The European Union is determined to help its...</td>\n      <td>['Computers and operating systems', 'ATMs, tic...</td>\n      <td>27.0</td>\n      <td>13.0</td>\n      <td>12.0</td>\n      <td>54.0</td>\n      <td>0.720000</td>\n      <td>75.0</td>\n      <td>522.475715</td>\n      <td>0.853333</td>\n    </tr>\n    <tr>\n      <th>2</th>\n      <td>https://futurice.com/blog/group-decision-makin...</td>\n      <td>Practical tips for facilitating high-quality, ...</td>\n      <td>21 Aug 2023</td>\n      <td>Strategy</td>\n      <td>This article helps you recognize the most comm...</td>\n      <td>['Group decision-making challenges', 'Solution...</td>\n      <td>['If you want to empower your management team ...</td>\n      <td>['An overly optimistic idea of what can be don...</td>\n      <td>76.0</td>\n      <td>34.0</td>\n      <td>43.0</td>\n      <td>150.0</td>\n      <td>0.663717</td>\n      <td>226.0</td>\n      <td>140.181343</td>\n      <td>0.902655</td>\n    </tr>\n    <tr>\n      <th>3</th>\n      <td>https://futurice.com/blog/futustories-from-con...</td>\n      <td>Better late than never – Sander’s shift from c...</td>\n      <td>11 Aug 2023</td>\n      <td>Culture</td>\n      <td>From consulting to coding, discover Sander Nob...</td>\n      <td>['How did you end up working at Futurice?', 'W...</td>\n      <td>['When a previous employer’s office closure an...</td>\n      <td>[]</td>\n      <td>17.0</td>\n      <td>6.0</td>\n      <td>7.0</td>\n      <td>30.0</td>\n      <td>0.697674</td>\n      <td>43.0</td>\n      <td>127.233857</td>\n      <td>0.813953</td>\n    </tr>\n    <tr>\n      <th>4</th>\n      <td>https://futurice.com/blog/car-companion-apps</td>\n      <td>Car companion apps - the tip of the automotive...</td>\n      <td>21 Jul 2023</td>\n      <td>Technology</td>\n      <td>Many car manufacturers are missing the market ...</td>\n      <td>['So what is it that MyBMW and Mini apps do to...</td>\n      <td>['Today, every major auto manufacturer offers ...</td>\n      <td>['Mindset of traditional OEMs: I am generalisi...</td>\n      <td>76.0</td>\n      <td>43.0</td>\n      <td>35.0</td>\n      <td>137.0</td>\n      <td>0.628440</td>\n      <td>218.0</td>\n      <td>130.211249</td>\n      <td>0.770642</td>\n    </tr>\n    <tr>\n      <th>...</th>\n      <td>...</td>\n      <td>...</td>\n      <td>...</td>\n      <td>...</td>\n      <td>...</td>\n      <td>...</td>\n      <td>...</td>\n      <td>...</td>\n      <td>...</td>\n      <td>...</td>\n      <td>...</td>\n      <td>...</td>\n      <td>...</td>\n      <td>...</td>\n      <td>...</td>\n      <td>...</td>\n    </tr>\n    <tr>\n      <th>507</th>\n      <td>https://futurice.com/blog/futurice-europes-bes...</td>\n      <td>Futurice – Europe's best workplace</td>\n      <td>7 Jun 2012</td>\n      <td>Culture</td>\n      <td>Wow! A great continuation for the national pri...</td>\n      <td>[]</td>\n      <td>['Wow! A great continuation for the national p...</td>\n      <td>[]</td>\n      <td>17.0</td>\n      <td>7.0</td>\n      <td>6.0</td>\n      <td>19.0</td>\n      <td>0.730769</td>\n      <td>26.0</td>\n      <td>138.922882</td>\n      <td>0.769231</td>\n    </tr>\n    <tr>\n      <th>508</th>\n      <td>https://futurice.com/blog/you-must-be-somewher...</td>\n      <td>You must be somewhere in London</td>\n      <td>30 May 2012</td>\n      <td>Culture</td>\n      <td>Time goes fast in London. You wake up in the m...</td>\n      <td>[]</td>\n      <td>['Time goes fast in London.', 'You wake up in ...</td>\n      <td>[]</td>\n      <td>4.0</td>\n      <td>0.0</td>\n      <td>0.0</td>\n      <td>3.0</td>\n      <td>0.750000</td>\n      <td>4.0</td>\n      <td>4.195911</td>\n      <td>1.000000</td>\n    </tr>\n    <tr>\n      <th>509</th>\n      <td>https://futurice.com/blog/decision-making-at-f...</td>\n      <td>Decision making at Futurice</td>\n      <td>7 May 2012</td>\n      <td>Culture</td>\n      <td>Futurice is a company with a flat hierarchy an...</td>\n      <td>[]</td>\n      <td>['', \"Futurice is a company with a flat hierar...</td>\n      <td>[]</td>\n      <td>199.0</td>\n      <td>126.0</td>\n      <td>79.0</td>\n      <td>283.0</td>\n      <td>0.736979</td>\n      <td>384.0</td>\n      <td>142.158630</td>\n      <td>0.671875</td>\n    </tr>\n    <tr>\n      <th>510</th>\n      <td>https://futurice.com/blog/designing-and-buildi...</td>\n      <td>Designing and building apps for four platforms...</td>\n      <td>17 Feb 2012</td>\n      <td>Projects</td>\n      <td>A couple of weeks ago, together with Restauran...</td>\n      <td>[]</td>\n      <td>['A couple of weeks ago, together with [Restau...</td>\n      <td>[]</td>\n      <td>5.0</td>\n      <td>0.0</td>\n      <td>2.0</td>\n      <td>5.0</td>\n      <td>0.714286</td>\n      <td>7.0</td>\n      <td>15.107210</td>\n      <td>1.000000</td>\n    </tr>\n    <tr>\n      <th>511</th>\n      <td>https://futurice.com/blog/coding-postures</td>\n      <td>Coding postures</td>\n      <td>22 Dec 2010</td>\n      <td>Culture</td>\n      <td>While taking some photos from around the offic...</td>\n      <td>[]</td>\n      <td>[\"While taking some photos from around the off...</td>\n      <td>[]</td>\n      <td>6.0</td>\n      <td>0.0</td>\n      <td>5.0</td>\n      <td>8.0</td>\n      <td>0.571429</td>\n      <td>14.0</td>\n      <td>110.614038</td>\n      <td>0.928571</td>\n    </tr>\n  </tbody>\n</table>\n<p>512 rows × 16 columns</p>\n</div>"
     },
     "execution_count": 4,
     "metadata": {},
     "output_type": "execute_result"
    }
   ],
   "source": [
    "df"
   ],
   "metadata": {
    "collapsed": false,
    "ExecuteTime": {
     "end_time": "2023-09-27T15:28:25.356200700Z",
     "start_time": "2023-09-27T15:28:25.282871100Z"
    }
   },
   "id": "cfacac0d4ae8bdd0"
  },
  {
   "cell_type": "code",
   "execution_count": 14,
   "outputs": [
    {
     "data": {
      "text/plain": "<Axes: xlabel='date'>"
     },
     "execution_count": 14,
     "metadata": {},
     "output_type": "execute_result"
    },
    {
     "data": {
      "text/plain": "<Figure size 640x480 with 1 Axes>",
      "image/png": "[encoded data removed]"
     },
     "metadata": {},
     "output_type": "display_data"
    }
   ],
   "source": [
    "df['date'] = pd.to_datetime(df['date'], format='mixed', dayfirst=True)\n",
    "df.groupby(pd.Grouper(key='date', freq='1M')).count()['link'].rolling(5).mean().plot()"
   ],
   "metadata": {
    "collapsed": false,
    "ExecuteTime": {
     "end_time": "2023-09-27T15:35:37.723163600Z",
     "start_time": "2023-09-27T15:35:37.438941700Z"
    }
   },
   "id": "bd81bd1206131bcf"
  },
  {
   "cell_type": "code",
   "execution_count": 40,
   "outputs": [
    {
     "data": {
      "text/plain": "                                                  link  \\\n0    https://futurice.com/blog/designops-small-team...   \n1    https://futurice.com/blog/european-accessibili...   \n2    https://futurice.com/blog/group-decision-makin...   \n3    https://futurice.com/blog/futustories-from-con...   \n4         https://futurice.com/blog/car-companion-apps   \n..                                                 ...   \n507  https://futurice.com/blog/futurice-europes-bes...   \n508  https://futurice.com/blog/you-must-be-somewher...   \n509  https://futurice.com/blog/decision-making-at-f...   \n510  https://futurice.com/blog/designing-and-buildi...   \n511          https://futurice.com/blog/coding-postures   \n\n                                                 title         date  \\\n0                 DesignOps - Small team starter guide  5 Sept 2023   \n1            Navigating the European Accessibility Act  30 Aug 2023   \n2    Practical tips for facilitating high-quality, ...  21 Aug 2023   \n3    Better late than never – Sander’s shift from c...  11 Aug 2023   \n4    Car companion apps - the tip of the automotive...  21 Jul 2023   \n..                                                 ...          ...   \n507                 Futurice – Europe's best workplace   7 Jun 2012   \n508                    You must be somewhere in London  30 May 2012   \n509                        Decision making at Futurice   7 May 2012   \n510  Designing and building apps for four platforms...  17 Feb 2012   \n511                                    Coding postures  22 Dec 2010   \n\n       category                                     grid paragraph  \\\n0    Technology  DesignOps is a powerful framework that works f...   \n1      Strategy  Digital accessibility is soon to be mandatory ...   \n2      Strategy  This article helps you recognize the most comm...   \n3       Culture  From consulting to coding, discover Sander Nob...   \n4    Technology  Many car manufacturers are missing the market ...   \n..          ...                                                ...   \n507     Culture  Wow! A great continuation for the national pri...   \n508     Culture  Time goes fast in London. You wake up in the m...   \n509     Culture  Futurice is a company with a flat hierarchy an...   \n510    Projects  A couple of weeks ago, together with Restauran...   \n511     Culture  While taking some photos from around the offic...   \n\n                                              headings  \\\n0    ['Index', 'Intro', 'What we mean by ‘DesignOps...   \n1    ['This is digital accessibility in short', 'Wh...   \n2    ['Group decision-making challenges', 'Solution...   \n3    ['How did you end up working at Futurice?', 'W...   \n4    ['So what is it that MyBMW and Mini apps do to...   \n..                                                 ...   \n507                                                 []   \n508                                                 []   \n509                                                 []   \n510                                                 []   \n511                                                 []   \n\n                                     content paragraph  \\\n0    ['The conversation about DesignOps seems to fo...   \n1    ['The European Union is determined to help its...   \n2    ['If you want to empower your management team ...   \n3    ['When a previous employer’s office closure an...   \n4    ['Today, every major auto manufacturer offers ...   \n..                                                 ...   \n507  ['Wow! A great continuation for the national p...   \n508  ['Time goes fast in London.', 'You wake up in ...   \n509  ['', \"Futurice is a company with a flat hierar...   \n510  ['A couple of weeks ago, together with [Restau...   \n511  [\"While taking some photos from around the off...   \n\n                                               bullets  total users  \\\n0    ['Intro', \"What we mean by ‘DesignOps'\", 'Clar...          6.0   \n1    ['Computers and operating systems', 'ATMs, tic...         27.0   \n2    ['An overly optimistic idea of what can be don...         76.0   \n3                                                   []         17.0   \n4    ['Mindset of traditional OEMs: I am generalisi...         76.0   \n..                                                 ...          ...   \n507                                                 []         17.0   \n508                                                 []          4.0   \n509                                                 []        199.0   \n510                                                 []          5.0   \n511                                                 []          6.0   \n\n     new users  returning users  views  views per session  sessions  \\\n0          0.0              4.0    9.0           0.642857      14.0   \n1         13.0             12.0   54.0           0.720000      75.0   \n2         34.0             43.0  150.0           0.663717     226.0   \n3          6.0              7.0   30.0           0.697674      43.0   \n4         43.0             35.0  137.0           0.628440     218.0   \n..         ...              ...    ...                ...       ...   \n507        7.0              6.0   19.0           0.730769      26.0   \n508        0.0              0.0    3.0           0.750000       4.0   \n509      126.0             79.0  283.0           0.736979     384.0   \n510        0.0              2.0    5.0           0.714286       7.0   \n511        0.0              5.0    8.0           0.571429      14.0   \n\n     average session duration  bounce rate  \n0                  156.692704     0.928571  \n1                  522.475715     0.853333  \n2                  140.181343     0.902655  \n3                  127.233857     0.813953  \n4                  130.211249     0.770642  \n..                        ...          ...  \n507                138.922882     0.769231  \n508                  4.195911     1.000000  \n509                142.158630     0.671875  \n510                 15.107210     1.000000  \n511                110.614038     0.928571  \n\n[512 rows x 16 columns]",
      "text/html": "<div>\n<style scoped>\n    .dataframe tbody tr th:only-of-type {\n        vertical-align: middle;\n    }\n\n    .dataframe tbody tr th {\n        vertical-align: top;\n    }\n\n    .dataframe thead th {\n        text-align: right;\n    }\n</style>\n<table border=\"1\" class=\"dataframe\">\n  <thead>\n    <tr style=\"text-align: right;\">\n      <th></th>\n      <th>link</th>\n      <th>title</th>\n      <th>date</th>\n      <th>category</th>\n      <th>grid paragraph</th>\n      <th>headings</th>\n      <th>content paragraph</th>\n      <th>bullets</th>\n      <th>total users</th>\n      <th>new users</th>\n      <th>returning users</th>\n      <th>views</th>\n      <th>views per session</th>\n      <th>sessions</th>\n      <th>average session duration</th>\n      <th>bounce rate</th>\n    </tr>\n  </thead>\n  <tbody>\n    <tr>\n      <th>0</th>\n      <td>https://futurice.com/blog/designops-small-team...</td>\n      <td>DesignOps - Small team starter guide</td>\n      <td>5 Sept 2023</td>\n      <td>Technology</td>\n      <td>DesignOps is a powerful framework that works f...</td>\n      <td>['Index', 'Intro', 'What we mean by ‘DesignOps...</td>\n      <td>['The conversation about DesignOps seems to fo...</td>\n      <td>['Intro', \"What we mean by ‘DesignOps'\", 'Clar...</td>\n      <td>6.0</td>\n      <td>0.0</td>\n      <td>4.0</td>\n      <td>9.0</td>\n      <td>0.642857</td>\n      <td>14.0</td>\n      <td>156.692704</td>\n      <td>0.928571</td>\n    </tr>\n    <tr>\n      <th>1</th>\n      <td>https://futurice.com/blog/european-accessibili...</td>\n      <td>Navigating the European Accessibility Act</td>\n      <td>30 Aug 2023</td>\n      <td>Strategy</td>\n      <td>Digital accessibility is soon to be mandatory ...</td>\n      <td>['This is digital accessibility in short', 'Wh...</td>\n      <td>['The European Union is determined to help its...</td>\n      <td>['Computers and operating systems', 'ATMs, tic...</td>\n      <td>27.0</td>\n      <td>13.0</td>\n      <td>12.0</td>\n      <td>54.0</td>\n      <td>0.720000</td>\n      <td>75.0</td>\n      <td>522.475715</td>\n      <td>0.853333</td>\n    </tr>\n    <tr>\n      <th>2</th>\n      <td>https://futurice.com/blog/group-decision-makin...</td>\n      <td>Practical tips for facilitating high-quality, ...</td>\n      <td>21 Aug 2023</td>\n      <td>Strategy</td>\n      <td>This article helps you recognize the most comm...</td>\n      <td>['Group decision-making challenges', 'Solution...</td>\n      <td>['If you want to empower your management team ...</td>\n      <td>['An overly optimistic idea of what can be don...</td>\n      <td>76.0</td>\n      <td>34.0</td>\n      <td>43.0</td>\n      <td>150.0</td>\n      <td>0.663717</td>\n      <td>226.0</td>\n      <td>140.181343</td>\n      <td>0.902655</td>\n    </tr>\n    <tr>\n      <th>3</th>\n      <td>https://futurice.com/blog/futustories-from-con...</td>\n      <td>Better late than never – Sander’s shift from c...</td>\n      <td>11 Aug 2023</td>\n      <td>Culture</td>\n      <td>From consulting to coding, discover Sander Nob...</td>\n      <td>['How did you end up working at Futurice?', 'W...</td>\n      <td>['When a previous employer’s office closure an...</td>\n      <td>[]</td>\n      <td>17.0</td>\n      <td>6.0</td>\n      <td>7.0</td>\n      <td>30.0</td>\n      <td>0.697674</td>\n      <td>43.0</td>\n      <td>127.233857</td>\n      <td>0.813953</td>\n    </tr>\n    <tr>\n      <th>4</th>\n      <td>https://futurice.com/blog/car-companion-apps</td>\n      <td>Car companion apps - the tip of the automotive...</td>\n      <td>21 Jul 2023</td>\n      <td>Technology</td>\n      <td>Many car manufacturers are missing the market ...</td>\n      <td>['So what is it that MyBMW and Mini apps do to...</td>\n      <td>['Today, every major auto manufacturer offers ...</td>\n      <td>['Mindset of traditional OEMs: I am generalisi...</td>\n      <td>76.0</td>\n      <td>43.0</td>\n      <td>35.0</td>\n      <td>137.0</td>\n      <td>0.628440</td>\n      <td>218.0</td>\n      <td>130.211249</td>\n      <td>0.770642</td>\n    </tr>\n    <tr>\n      <th>...</th>\n      <td>...</td>\n      <td>...</td>\n      <td>...</td>\n      <td>...</td>\n      <td>...</td>\n      <td>...</td>\n      <td>...</td>\n      <td>...</td>\n      <td>...</td>\n      <td>...</td>\n      <td>...</td>\n      <td>...</td>\n      <td>...</td>\n      <td>...</td>\n      <td>...</td>\n      <td>...</td>\n    </tr>\n    <tr>\n      <th>507</th>\n      <td>https://futurice.com/blog/futurice-europes-bes...</td>\n      <td>Futurice – Europe's best workplace</td>\n      <td>7 Jun 2012</td>\n      <td>Culture</td>\n      <td>Wow! A great continuation for the national pri...</td>\n      <td>[]</td>\n      <td>['Wow! A great continuation for the national p...</td>\n      <td>[]</td>\n      <td>17.0</td>\n      <td>7.0</td>\n      <td>6.0</td>\n      <td>19.0</td>\n      <td>0.730769</td>\n      <td>26.0</td>\n      <td>138.922882</td>\n      <td>0.769231</td>\n    </tr>\n    <tr>\n      <th>508</th>\n      <td>https://futurice.com/blog/you-must-be-somewher...</td>\n      <td>You must be somewhere in London</td>\n      <td>30 May 2012</td>\n      <td>Culture</td>\n      <td>Time goes fast in London. You wake up in the m...</td>\n      <td>[]</td>\n      <td>['Time goes fast in London.', 'You wake up in ...</td>\n      <td>[]</td>\n      <td>4.0</td>\n      <td>0.0</td>\n      <td>0.0</td>\n      <td>3.0</td>\n      <td>0.750000</td>\n      <td>4.0</td>\n      <td>4.195911</td>\n      <td>1.000000</td>\n    </tr>\n    <tr>\n      <th>509</th>\n      <td>https://futurice.com/blog/decision-making-at-f...</td>\n      <td>Decision making at Futurice</td>\n      <td>7 May 2012</td>\n      <td>Culture</td>\n      <td>Futurice is a company with a flat hierarchy an...</td>\n      <td>[]</td>\n      <td>['', \"Futurice is a company with a flat hierar...</td>\n      <td>[]</td>\n      <td>199.0</td>\n      <td>126.0</td>\n      <td>79.0</td>\n      <td>283.0</td>\n      <td>0.736979</td>\n      <td>384.0</td>\n      <td>142.158630</td>\n      <td>0.671875</td>\n    </tr>\n    <tr>\n      <th>510</th>\n      <td>https://futurice.com/blog/designing-and-buildi...</td>\n      <td>Designing and building apps for four platforms...</td>\n      <td>17 Feb 2012</td>\n      <td>Projects</td>\n      <td>A couple of weeks ago, together with Restauran...</td>\n      <td>[]</td>\n      <td>['A couple of weeks ago, together with [Restau...</td>\n      <td>[]</td>\n      <td>5.0</td>\n      <td>0.0</td>\n      <td>2.0</td>\n      <td>5.0</td>\n      <td>0.714286</td>\n      <td>7.0</td>\n      <td>15.107210</td>\n      <td>1.000000</td>\n    </tr>\n    <tr>\n      <th>511</th>\n      <td>https://futurice.com/blog/coding-postures</td>\n      <td>Coding postures</td>\n      <td>22 Dec 2010</td>\n      <td>Culture</td>\n      <td>While taking some photos from around the offic...</td>\n      <td>[]</td>\n      <td>[\"While taking some photos from around the off...</td>\n      <td>[]</td>\n      <td>6.0</td>\n      <td>0.0</td>\n      <td>5.0</td>\n      <td>8.0</td>\n      <td>0.571429</td>\n      <td>14.0</td>\n      <td>110.614038</td>\n      <td>0.928571</td>\n    </tr>\n  </tbody>\n</table>\n<p>512 rows × 16 columns</p>\n</div>"
     },
     "execution_count": 40,
     "metadata": {},
     "output_type": "execute_result"
    }
   ],
   "source": [
    "df = pd.read_csv('../data/processed/futurice/blogs_with_analytics.csv')\n",
    "df"
   ],
   "metadata": {
    "collapsed": false,
    "ExecuteTime": {
     "end_time": "2023-09-27T16:13:03.784633900Z",
     "start_time": "2023-09-27T16:13:03.643192500Z"
    }
   },
   "id": "33312a8023a9e736"
  },
  {
   "cell_type": "code",
   "execution_count": 41,
   "outputs": [],
   "source": [
    "def get_full_text():\n",
    "    import ast\n",
    "    def get_text(row):\n",
    "        return \" \".join(ast.literal_eval(row[6])) + \" \" + \\\n",
    "                \" \".join(ast.literal_eval(row[7]))\n",
    "    df['text'] = df.apply(get_text, axis=1)\n",
    "    df = df.rename(columns={'text': 'full text'})\n",
    "    # df.to_csv('../data/processed/futurice/blogs_with_analytics.csv', mode='w+', index=False)\n"
   ],
   "metadata": {
    "collapsed": false,
    "ExecuteTime": {
     "end_time": "2023-09-27T16:13:10.269136500Z",
     "start_time": "2023-09-27T16:13:10.156499600Z"
    }
   },
   "id": "cbace5febe9f410a"
  },
  {
   "cell_type": "code",
   "execution_count": 42,
   "outputs": [],
   "source": [],
   "metadata": {
    "collapsed": false,
    "ExecuteTime": {
     "end_time": "2023-09-27T16:13:11.708641900Z",
     "start_time": "2023-09-27T16:13:11.668461100Z"
    }
   },
   "id": "2f4c4a9321c8531c"
  },
  {
   "cell_type": "code",
   "execution_count": 43,
   "outputs": [],
   "source": [],
   "metadata": {
    "collapsed": false,
    "ExecuteTime": {
     "end_time": "2023-09-27T16:13:12.753359700Z",
     "start_time": "2023-09-27T16:13:12.613131500Z"
    }
   },
   "id": "ed934ad0f7498c85"
  },
  {
   "cell_type": "code",
   "execution_count": 45,
   "outputs": [
    {
     "data": {
      "text/plain": "  0%|          | 0/3 [00:00<?, ?it/s]",
      "application/vnd.jupyter.widget-view+json": {
       "version_major": 2,
       "version_minor": 0,
       "model_id": "1778f4f33ae647eaa0ed3544af530950"
      }
     },
     "metadata": {},
     "output_type": "display_data"
    }
   ],
   "source": [
    "def generate_stemmed_texts():\n",
    "    # python -m spacy download en_core_web_sm\n",
    "    nlp = spacy.load('en_core_web_sm')\n",
    "    stemmer = PorterStemmer()\n",
    "    \n",
    "    # Stemming ignores punctuation and linebreaks.\n",
    "    def stem_text(text):\n",
    "        tokens = []\n",
    "        # correcting the weird apostrophe used in Accenture texts\n",
    "        for token in nlp(str(text).replace('’', '\\'')):\n",
    "            if not token.is_punct and not token.is_space:\n",
    "                tokens.append(stemmer.stem(token.text))\n",
    "        return ' '.join(tokens)\n",
    "    \n",
    "    names = ['Accenture', 'Futurice', 'Tietoevry']\n",
    "    paths = ['../data/raw/accenture/pages.csv', '../data/processed/futurice/blogs_with_analytics.csv', '../data/raw/tietoevry/blogs.csv']\n",
    "    \n",
    "    dest_paths = ['../data/processed/stemmed/accenture.csv', '../data/processed/stemmed/futurice.csv', '../data/processed/stemmed/tietoevry.csv']\n",
    "    \n",
    "    dfs = []\n",
    "    for i in tqdm(range(len(names))):\n",
    "        df = pd.read_csv(paths[i])\n",
    "        if 'text' in df.columns:\n",
    "            df = df[['date', 'text']]\n",
    "        elif 'full text' in df.columns:\n",
    "            df = df[['date', 'full text']].rename(columns={'full text': 'text'})\n",
    "        else:\n",
    "            raise Exception('no text')\n",
    "    \n",
    "        df.name = names[i]\n",
    "        df['date'] = pd.to_datetime(df['date'], format='mixed')  # detects format itself\n",
    "        df['stemmed'] = df['text'].apply(stem_text)\n",
    "        df.to_csv(dest_paths[i], index=False, mode='x+')"
   ],
   "metadata": {
    "collapsed": false,
    "ExecuteTime": {
     "end_time": "2023-09-27T17:03:16.565900100Z",
     "start_time": "2023-09-27T16:57:28.958902500Z"
    }
   },
   "id": "58dabfc9962205af"
  },
  {
   "cell_type": "code",
   "execution_count": 48,
   "outputs": [],
   "source": [
    "df = pd.read_csv('../data/processed/stemmed/futurice.csv')"
   ],
   "metadata": {
    "collapsed": false,
    "ExecuteTime": {
     "end_time": "2023-09-27T17:04:47.057178200Z",
     "start_time": "2023-09-27T17:04:46.977591100Z"
    }
   },
   "id": "2ac687659a0bd6c2"
  },
  {
   "cell_type": "code",
   "execution_count": 49,
   "outputs": [
    {
     "data": {
      "text/plain": "           date                                               text  \\\n0    2023-09-05  The conversation about DesignOps seems to focu...   \n1    2023-08-30  The European Union is determined to help its d...   \n2    2023-08-21  If you want to empower your management team to...   \n3    2023-08-11  When a previous employer’s office closure and ...   \n4    2023-07-21  Today, every major auto manufacturer offers a ...   \n..          ...                                                ...   \n507  2012-06-07  Wow! A great continuation for the national pri...   \n508  2012-05-30  Time goes fast in London. You wake up in the m...   \n509  2012-05-07   Futurice is a company with a flat hierarchy a...   \n510  2012-02-17  A couple of weeks ago, together with [Restaura...   \n511  2010-12-22  While taking some photos from around the offic...   \n\n                                               stemmed  \n0    the convers about designop seem to focu on lar...  \n1    the european union is determin to help it disa...  \n2    if you want to empow your manag team to make h...  \n3    when a previou employ 's offic closur and the ...  \n4    today everi major auto manufactur offer a conn...  \n..                                                 ...  \n507  wow a great continu for the nation prize thi y...  \n508  time goe fast in london you wake up in the mor...  \n509  futuric is a compani with a flat hierarchi and...  \n510  a coupl of week ago togeth with restaur day](h...  \n511  while take some photo from around the offic i ...  \n\n[512 rows x 3 columns]",
      "text/html": "<div>\n<style scoped>\n    .dataframe tbody tr th:only-of-type {\n        vertical-align: middle;\n    }\n\n    .dataframe tbody tr th {\n        vertical-align: top;\n    }\n\n    .dataframe thead th {\n        text-align: right;\n    }\n</style>\n<table border=\"1\" class=\"dataframe\">\n  <thead>\n    <tr style=\"text-align: right;\">\n      <th></th>\n      <th>date</th>\n      <th>text</th>\n      <th>stemmed</th>\n    </tr>\n  </thead>\n  <tbody>\n    <tr>\n      <th>0</th>\n      <td>2023-09-05</td>\n      <td>The conversation about DesignOps seems to focu...</td>\n      <td>the convers about designop seem to focu on lar...</td>\n    </tr>\n    <tr>\n      <th>1</th>\n      <td>2023-08-30</td>\n      <td>The European Union is determined to help its d...</td>\n      <td>the european union is determin to help it disa...</td>\n    </tr>\n    <tr>\n      <th>2</th>\n      <td>2023-08-21</td>\n      <td>If you want to empower your management team to...</td>\n      <td>if you want to empow your manag team to make h...</td>\n    </tr>\n    <tr>\n      <th>3</th>\n      <td>2023-08-11</td>\n      <td>When a previous employer’s office closure and ...</td>\n      <td>when a previou employ 's offic closur and the ...</td>\n    </tr>\n    <tr>\n      <th>4</th>\n      <td>2023-07-21</td>\n      <td>Today, every major auto manufacturer offers a ...</td>\n      <td>today everi major auto manufactur offer a conn...</td>\n    </tr>\n    <tr>\n      <th>...</th>\n      <td>...</td>\n      <td>...</td>\n      <td>...</td>\n    </tr>\n    <tr>\n      <th>507</th>\n      <td>2012-06-07</td>\n      <td>Wow! A great continuation for the national pri...</td>\n      <td>wow a great continu for the nation prize thi y...</td>\n    </tr>\n    <tr>\n      <th>508</th>\n      <td>2012-05-30</td>\n      <td>Time goes fast in London. You wake up in the m...</td>\n      <td>time goe fast in london you wake up in the mor...</td>\n    </tr>\n    <tr>\n      <th>509</th>\n      <td>2012-05-07</td>\n      <td>Futurice is a company with a flat hierarchy a...</td>\n      <td>futuric is a compani with a flat hierarchi and...</td>\n    </tr>\n    <tr>\n      <th>510</th>\n      <td>2012-02-17</td>\n      <td>A couple of weeks ago, together with [Restaura...</td>\n      <td>a coupl of week ago togeth with restaur day](h...</td>\n    </tr>\n    <tr>\n      <th>511</th>\n      <td>2010-12-22</td>\n      <td>While taking some photos from around the offic...</td>\n      <td>while take some photo from around the offic i ...</td>\n    </tr>\n  </tbody>\n</table>\n<p>512 rows × 3 columns</p>\n</div>"
     },
     "execution_count": 49,
     "metadata": {},
     "output_type": "execute_result"
    }
   ],
   "source": [
    "df"
   ],
   "metadata": {
    "collapsed": false,
    "ExecuteTime": {
     "end_time": "2023-09-27T17:04:48.446829600Z",
     "start_time": "2023-09-27T17:04:48.411704700Z"
    }
   },
   "id": "22666045a6bc7f0d"
  },
  {
   "cell_type": "code",
   "execution_count": null,
   "outputs": [],
   "source": [],
   "metadata": {
    "collapsed": false
   },
   "id": "de682edb1711d2c4"
  }
 ],
 "metadata": {
  "kernelspec": {
   "display_name": "Python 3",
   "language": "python",
   "name": "python3"
  },
  "language_info": {
   "codemirror_mode": {
    "name": "ipython",
    "version": 2
   },
   "file_extension": ".py",
   "mimetype": "text/x-python",
   "name": "python",
   "nbconvert_exporter": "python",
   "pygments_lexer": "ipython2",
   "version": "2.7.6"
  }
 },
 "nbformat": 4,
 "nbformat_minor": 5
}
